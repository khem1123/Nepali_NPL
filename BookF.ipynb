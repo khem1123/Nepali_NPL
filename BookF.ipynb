{
 "cells": [
  {
   "cell_type": "markdown",
   "id": "5afc6c0b-b002-448c-995b-60645486f4a0",
   "metadata": {},
   "source": [
    "# Nepali Text Analysis Using Python\n",
    "\n",
    "This notebook demonstrates the natural language processing of text written in Nepali. \n",
    "In this code I analyze the book titled \"फरक आकार, फरक आयाम - पुनर्बासपछिका भूटानी नेपाली कविता\" published by साहित्य परिषद भूटान. \n",
    "The book is a collection of poems written by Bhutanese writers from XXX.YYY.\n",
    "\n",
    "Some quantitative analyses in this code require contextual knowledge about Bhutanese Nepali writers, which is included in Journal Paper XXX. \n",
    "This notebook should be used to understand the technical method used for analysis and can be extended to any Nepali text. "
   ]
  },
  {
   "cell_type": "markdown",
   "id": "33cf5546-9ee5-4bc2-a174-ccecef8b58b3",
   "metadata": {},
   "source": [
    "## Load the library\n",
    "As the digital copy of the book is in MS -Word format.\n",
    " The famous Pandas are used to eat bamboo and to make Tables! I use matplotlib for plotting! "
   ]
  },
  {
   "cell_type": "code",
   "execution_count": 1,
   "id": "9ffa6e51-eef9-4c9d-a392-97c6cd9d2bee",
   "metadata": {},
   "outputs": [],
   "source": [
    "from docx import Document\n",
    "from docx.shared import Inches\n",
    "import pandas as pd\n",
    "import numpy as np\n",
    "import matplotlib.pyplot as plt \n",
    "from matplotlib.figure import Figure as figure"
   ]
  },
  {
   "cell_type": "markdown",
   "id": "f9db834f-e88b-4651-8929-9381ec790e34",
   "metadata": {},
   "source": [
    "## Load the Document\n",
    "I load the document, read the Poem titles defined in the word as Heading 4, and extract Normal text under each heading as the \"poems.\" Writer Names are defined with MS word Word style Name \"Chapter Title,\" so I use that filter to extract them."
   ]
  },
  {
   "cell_type": "code",
   "execution_count": 2,
   "id": "d4348cc8-927f-43df-90b0-2c9677d1f7ca",
   "metadata": {},
   "outputs": [],
   "source": [
    "document = Document(\"PoetryCollection2.docx\")\n",
    "headings = []\n",
    "texts = []\n",
    "para = []\n",
    "for paragraph in document.paragraphs:\n",
    "    if paragraph.style.name.startswith(\"Heading 4\"):\n",
    "        if headings:\n",
    "            texts.append(para)\n",
    "        headings.append(paragraph.text)\n",
    "        para = []\n",
    "    elif paragraph.style.name == \"Normal\":\n",
    "        para.append(paragraph.text)\n",
    "if para or len(headings)>len(texts):\n",
    "    texts.append(texts.append(para))\n",
    "    \n",
    "Writers=[]\n",
    "for section  in document.paragraphs:\n",
    "    if section.style.name.startswith(\"Chapter Title\"):\n",
    "        Writers.append(section.text)\n",
    "        if '\\n' in Writers: Writers.remove('\\n')\n",
    "        \n",
    "h1=[]\n",
    "t1=[]\n",
    "for h, t in zip(headings, texts):\n",
    "    h1.append(h)\n",
    "    t1.append(t) "
   ]
  },
  {
   "cell_type": "markdown",
   "id": "104a89e4-0eec-47f2-8fc0-97ff2e273f10",
   "metadata": {},
   "source": [
    "#### Create a Table for extracted values\n",
    "Now I put writers, Poem heading, and all text in a table called df! "
   ]
  },
  {
   "cell_type": "code",
   "execution_count": 3,
   "id": "8b73eff4-8284-4822-a8d3-aa59aefa9463",
   "metadata": {},
   "outputs": [
    {
     "data": {
      "text/html": [
       "<div>\n",
       "<style scoped>\n",
       "    .dataframe tbody tr th:only-of-type {\n",
       "        vertical-align: middle;\n",
       "    }\n",
       "\n",
       "    .dataframe tbody tr th {\n",
       "        vertical-align: top;\n",
       "    }\n",
       "\n",
       "    .dataframe thead th {\n",
       "        text-align: right;\n",
       "    }\n",
       "</style>\n",
       "<table border=\"1\" class=\"dataframe\">\n",
       "  <thead>\n",
       "    <tr style=\"text-align: right;\">\n",
       "      <th></th>\n",
       "      <th>Writers</th>\n",
       "      <th>Poems</th>\n",
       "      <th>Text</th>\n",
       "    </tr>\n",
       "  </thead>\n",
       "  <tbody>\n",
       "    <tr>\n",
       "      <th>0</th>\n",
       "      <td>अजित रुपाबुङ्</td>\n",
       "      <td>कसरी बाँच्नु भएको छ ?</td>\n",
       "      <td>[म त यस्तो ठाउँमा छु, जहाँ, मान्छेहरूको ठेलमठे...</td>\n",
       "    </tr>\n",
       "    <tr>\n",
       "      <th>1</th>\n",
       "      <td>अधिकारी कान्छो (परमानन्द )</td>\n",
       "      <td>हेर्ने त फेसबुक हो</td>\n",
       "      <td>[बोल्दा हेर्न हुने बसे परपरै कस्ले बनायो कुनी,...</td>\n",
       "    </tr>\n",
       "    <tr>\n",
       "      <th>2</th>\n",
       "      <td>अनन्त आचार्य</td>\n",
       "      <td>आमाको पत्र</td>\n",
       "      <td>[मातृवात्सल्यबाट-, म यहाँसम्म आइपुग्दा, कालो र...</td>\n",
       "    </tr>\n",
       "    <tr>\n",
       "      <th>3</th>\n",
       "      <td>अबिबाबु अधिकारी</td>\n",
       "      <td>पारपाचुके</td>\n",
       "      <td>[आ-आफ्नू घमण्डले हाम्रो बाटो छुट्टियो,, सँगै ज...</td>\n",
       "    </tr>\n",
       "    <tr>\n",
       "      <th>4</th>\n",
       "      <td>अम्बिकाप्रसाद दुलाल</td>\n",
       "      <td>सम्झन्छु सम्झन्छु है</td>\n",
       "      <td>[जलढका अनि बग्छ धनसिरि नदी पश्चिम तथा पूर्वमा,...</td>\n",
       "    </tr>\n",
       "  </tbody>\n",
       "</table>\n",
       "</div>"
      ],
      "text/plain": [
       "                      Writers                  Poems  \\\n",
       "0               अजित रुपाबुङ्  कसरी बाँच्नु भएको छ ?   \n",
       "1  अधिकारी कान्छो (परमानन्द )     हेर्ने त फेसबुक हो   \n",
       "2                अनन्त आचार्य             आमाको पत्र   \n",
       "3             अबिबाबु अधिकारी              पारपाचुके   \n",
       "4         अम्बिकाप्रसाद दुलाल   सम्झन्छु सम्झन्छु है   \n",
       "\n",
       "                                                Text  \n",
       "0  [म त यस्तो ठाउँमा छु, जहाँ, मान्छेहरूको ठेलमठे...  \n",
       "1  [बोल्दा हेर्न हुने बसे परपरै कस्ले बनायो कुनी,...  \n",
       "2  [मातृवात्सल्यबाट-, म यहाँसम्म आइपुग्दा, कालो र...  \n",
       "3  [आ-आफ्नू घमण्डले हाम्रो बाटो छुट्टियो,, सँगै ज...  \n",
       "4  [जलढका अनि बग्छ धनसिरि नदी पश्चिम तथा पूर्वमा,...  "
      ]
     },
     "execution_count": 3,
     "metadata": {},
     "output_type": "execute_result"
    }
   ],
   "source": [
    "df = pd.DataFrame(columns = [\"Writers\",\"Poems\",\"Text\"])\n",
    "df[\"Writers\"]=Writers\n",
    "df[\"Poems\"]=h1\n",
    "df[\"Text\"]=t1\n",
    "df.head()"
   ]
  },
  {
   "cell_type": "markdown",
   "id": "93685a29-978a-440c-8c04-53b84a737370",
   "metadata": {},
   "source": [
    "Let us see what the text looks like. Here I randomly print the second and the 88th  poem from the book."
   ]
  },
  {
   "cell_type": "code",
   "execution_count": 4,
   "id": "67a29052-408a-49e9-9aad-2974d6ebf1ba",
   "metadata": {},
   "outputs": [
    {
     "data": {
      "text/plain": [
       "['मातृवात्सल्यबाट-',\n",
       " 'म यहाँसम्म आइपुग्दा',\n",
       " 'कालो रातमा,',\n",
       " 'मैँले एउटा पत्र प्राप्त गरेँ –',\n",
       " '“मबाट छुटाएर लगेपछि',\n",
       " 'सदैव शान्ति रहेन ममा',\n",
       " 'मेरो वरिपरि ',\n",
       " 'खजुरा र बिच्छीहरू देख्छु',\n",
       " 'सर्पहरू मलाई टोक्न आउँछन्',\n",
       " 'बलिन्द्र आँसु',\n",
       " 'असित देह लिएर',\n",
       " 'म तिमीलाई पर्खन्छु',\n",
       " 'यदि सकिन्छ भने',\n",
       " 'मेरो अमिलो मनको बाटो भएर आऊ',\n",
       " 'त्यो संसारमा',\n",
       " 'सबै कुराहरू पाउनेछौँ',\n",
       " 'रातपछि दिन हुन्छ',\n",
       " 'म त्यो कुरिरहेको छु ।”',\n",
       " 'आमाको पत्र पढिसकेपछि',\n",
       " 'मेरा आँखाबाट आँसु झरेर',\n",
       " 'पत्रको “तिमी आऊ”',\n",
       " 'शब्द मेटियो ।',\n",
       " 'मेरो हातबाट पत्र झर्\\u200dयो',\n",
       " 'आ…मा…..को….पत्र……!!! \\n',\n",
       " 'पेन्सिलभेनिया, अमेरिका  ']"
      ]
     },
     "execution_count": 4,
     "metadata": {},
     "output_type": "execute_result"
    }
   ],
   "source": [
    "df.Text[2]"
   ]
  },
  {
   "cell_type": "code",
   "execution_count": 5,
   "id": "85b510f8-1f52-418a-ad4f-2ee548526e32",
   "metadata": {},
   "outputs": [
    {
     "data": {
      "text/plain": [
       "['हो म हजारौँ चोटि पटक पटक लुटिएको मान्छे',\n",
       " 'अनि सयौँ पटक ठगिनसम्म ठगिएको मान्छे',\n",
       " 'भिडमा, गन्दागन्दै गन्तीमा हराएको मान्छे',\n",
       " 'बोल्दाबोल्दै कैयौँ पटक बोली भासिएको मान्छे',\n",
       " 'बस्दाबस्दै बसेकै ठाउँबाट लखेटिएको मान्छे',\n",
       " 'हो, म आफ्नै देशबाट निकालिएको मान्छे',\n",
       " 'रोग, भोक अनि नाङ्गो शरीर बुझेको मान्छे',\n",
       " 'देशमा सुनगाभा र सुनाखरी रोप्न खोज्दै गर्दा मन फाटेको मान्छे ।',\n",
       " '',\n",
       " 'साँच्चै हो, म आफ्नै देशबाट लखेटिएको मान्छे',\n",
       " 'गाँस, बास  र कपासको भिख तिमीसँग माग्ने मान्छे',\n",
       " 'पक्का हो, धेरैसँग हात फिँजाई  मागी खाएको मान्छे',\n",
       " 'हो, म त असजिलो समय र परिवेशमा भिजेको मान्छे',\n",
       " 'पीडा, माया ममता अनि दुःख सुख सबै बोकेको मान्छे',\n",
       " 'तर, अझै पनि आकाश छुने लक्ष्य बोकेर अघि बढेको मान्छे',\n",
       " 'देशमा परिवर्तन हेर्ने, भिखको ऋण तिर्ने जोस भएको मान्छे',\n",
       " 'पछाडिबाट छुरा रोप्ने साथीभन्दा अगाडिबाट',\n",
       " 'छुरा रोप्ने दुस्मन प्यारो मान्ने मान्छे।',\n",
       " 'त्यसैले शान नदेखाऊ तिमी, म बिना कसुरको मान्छे',\n",
       " 'हो, म आफ्नै देशबाट निकालिएको मान्छे',\n",
       " 'साँच्चै हो, म आफ्नै देशबाट लखेटिएको मान्छे ।',\n",
       " '\\n',\n",
       " 'केन्टकी, अमेरिका']"
      ]
     },
     "execution_count": 5,
     "metadata": {},
     "output_type": "execute_result"
    }
   ],
   "source": [
    "df.Text[87]"
   ]
  },
  {
   "cell_type": "markdown",
   "id": "afcf600e-f28b-4507-be1d-fe9787d4c679",
   "metadata": {},
   "source": [
    "As you can see, the poems are formatted and read differently. In the first printed Text (Poem 1)\n",
    "There are a few Unicode characters and a few blank lines. Each element of the Text should be a list containing a line from a poem, but they are not always read correctly! I will remove Unicode characters for line splits (\\n) and also remove the addresses of writers that are always at the end of the poems. \n"
   ]
  },
  {
   "cell_type": "markdown",
   "id": "e57c0f49-b3b8-4a2d-8b16-61f292422c60",
   "metadata": {},
   "source": [
    "## Preprocess Text "
   ]
  },
  {
   "cell_type": "markdown",
   "id": "44f569a7-f59c-49c3-b3d5-6859cb6408d2",
   "metadata": {},
   "source": [
    "#### Remove unicode character for line splits (\\n) from each Text "
   ]
  },
  {
   "cell_type": "code",
   "execution_count": 6,
   "id": "cf5bc4dc-c7c9-48fa-ae9c-14691705e8e8",
   "metadata": {},
   "outputs": [],
   "source": [
    "for i in range(len(df)):\n",
    "    for j in range(len(df['Text'][i])):\n",
    "            df['Text'][i][j]=df['Text'][i][j].replace('\\n',\",\")"
   ]
  },
  {
   "cell_type": "markdown",
   "id": "4b215487-ab9e-47bb-8580-dbd9d6ef7158",
   "metadata": {},
   "source": [
    "#### Remove Last lines of each poem; This is the address"
   ]
  },
  {
   "cell_type": "code",
   "execution_count": 7,
   "id": "187c1a21-fa49-49a8-9835-64e56cd07075",
   "metadata": {},
   "outputs": [],
   "source": [
    "df['Text'] = df['Text'].apply(lambda x:  np.delete(x,-1))\n"
   ]
  },
  {
   "cell_type": "markdown",
   "id": "bd9c1b44-34d0-4602-95be-f8540d564e38",
   "metadata": {},
   "source": [
    "Now let us examine these two texts again!"
   ]
  },
  {
   "cell_type": "code",
   "execution_count": 8,
   "id": "e3982302-a717-4e53-965c-f17a883eb631",
   "metadata": {},
   "outputs": [
    {
     "name": "stdout",
     "output_type": "stream",
     "text": [
      "['बोल्दा हेर्न हुने बसे परपरै कस्ले बनायो कुनी'\n",
      " 'खोल्दा विश्व सबै छ सुन्न सकिने राखेर\\xa0यान्त्रिक् ध्वनि'\n",
      " 'जस्तै सङ्कटमा बसेर घरमा चिन्ता छ फेस्बूकको'\n",
      " 'सारै कष्ट परे भए सरलता हेर्ने त फेस्बूक हो।।'\n",
      " 'धेरै चिन्तन छन् गरे मन परे लाग्दैन पैसा अनि'\n",
      " 'बाँडी हेर्न सकिन्छ रे मन गरे सेयर् गरेरै पनि।।'\n",
      " 'योगा ध्यान गरे खिचेर भिडियो हाल्ने त फेस्बूक भो'\n",
      " 'आमा, दाजु, दिदी र भाइ-बहिनी हेर्ने त फेस्बूक हो।।'\n",
      " 'मान्छे जन्म हुँदा छ हर्षित उता हालेर फोटो निकै'\n",
      " 'धेरै पाठ पढी बनेर गतिलो हाल्दा छ फोटो ठिकै।'\n",
      " 'राजा या जनता र शासक सबै डुब्ने त फेस्बूक भो'\n",
      " 'झुप्रोमा घरमा बसे सहरमा हेर्ने त फेस्बूक हो।।'\n",
      " 'लाग्दा भोक उता किनेर मसिनो हालेर फेस्बूकमा'\n",
      " 'खान्छन् झट्ट किनी गई झटपटी मान्छे त होटेलमा।'\n",
      " 'भान्सा भात लिटो चढाउनु अघी\\xa0हाल्ने त फेस्बूकभो,आधा घण्ट नभै बसेर अलिबेर् हेर्ने त फेस्बूक हो।।'\n",
      " ',' 'कस्ले के गहना किने पसलमा पैसा तिरेछन् कति'\n",
      " 'बाली खेत खिची बताउँछ छिटो केके भयो उन्नति।'\n",
      " 'कोदालो हँसिया चलाउनु अघी फेरेर फेस्बूकको'\n",
      " 'बाँझो खन्न परे चिया दिनुपरे हेर्ने त फेस्बूक हो।।'\n",
      " 'जाँदा बाथ्रुममा चलाउनु बसी भान्सा र कोठा पिँडी'\n",
      " 'पूजा पाठ भुली बिहान दिनमा फेस्बूक हात्मा बिडी।'\n",
      " 'फोटो हेर्नु सुती उठी पलङमा कोट्याइ फेस्बूकको'\n",
      " 'रातीमा दिनमा कुनै समयमा हेर्ने त फेस्बूक हो।।'\n",
      " 'नेपालीहरुले डुलेर बहुतै फोटो खिचेका थिए'\n",
      " 'भेट्दा टावर ती बसेर सबले फेस्बूकमा हाल्दिए।'\n",
      " 'जाने मार्ग कता छ त्यो मन गरी खोजेर फेस्बूकको'\n",
      " 'गाडी मोटरमा गुडे\\xa0सब जना\\xa0हेर्ने त फेस्बूक हो।।'\n",
      " 'लौरी हात लिई सुतेर बसने आँखै नदेख्नेहरू'\n",
      " 'गाँडो फेस्बुकमा पकाउँछ ठिटी कस्को कुरा के गरौँ।'\n",
      " 'लोकै तर्छु भनी बडा गजबको खोलेर फेस्बूक यो'\n",
      " 'मान्छे मर्नु अगी सुती पलङमा हेर्ने त फेस्बूक हो।।' '' ''\n",
      " 'एड्लेड, अस्ट्रेलिया']\n"
     ]
    }
   ],
   "source": [
    "print(df.Text[1])"
   ]
  },
  {
   "cell_type": "code",
   "execution_count": 9,
   "id": "4053813f-b3f9-4324-b774-78decb5ecf35",
   "metadata": {},
   "outputs": [
    {
     "name": "stdout",
     "output_type": "stream",
     "text": [
      "['हो म हजारौँ चोटि पटक पटक लुटिएको मान्छे'\n",
      " 'अनि सयौँ पटक ठगिनसम्म ठगिएको मान्छे'\n",
      " 'भिडमा, गन्दागन्दै गन्तीमा हराएको मान्छे'\n",
      " 'बोल्दाबोल्दै कैयौँ पटक बोली भासिएको मान्छे'\n",
      " 'बस्दाबस्दै बसेकै ठाउँबाट लखेटिएको मान्छे'\n",
      " 'हो, म आफ्नै देशबाट निकालिएको मान्छे'\n",
      " 'रोग, भोक अनि नाङ्गो शरीर बुझेको मान्छे'\n",
      " 'देशमा सुनगाभा र सुनाखरी रोप्न खोज्दै गर्दा मन फाटेको मान्छे ।' ''\n",
      " 'साँच्चै हो, म आफ्नै देशबाट लखेटिएको मान्छे'\n",
      " 'गाँस, बास  र कपासको भिख तिमीसँग माग्ने मान्छे'\n",
      " 'पक्का हो, धेरैसँग हात फिँजाई  मागी खाएको मान्छे'\n",
      " 'हो, म त असजिलो समय र परिवेशमा भिजेको मान्छे'\n",
      " 'पीडा, माया ममता अनि दुःख सुख सबै बोकेको मान्छे'\n",
      " 'तर, अझै पनि आकाश छुने लक्ष्य बोकेर अघि बढेको मान्छे'\n",
      " 'देशमा परिवर्तन हेर्ने, भिखको ऋण तिर्ने जोस भएको मान्छे'\n",
      " 'पछाडिबाट छुरा रोप्ने साथीभन्दा अगाडिबाट'\n",
      " 'छुरा रोप्ने दुस्मन प्यारो मान्ने मान्छे।'\n",
      " 'त्यसैले शान नदेखाऊ तिमी, म बिना कसुरको मान्छे'\n",
      " 'हो, म आफ्नै देशबाट निकालिएको मान्छे'\n",
      " 'साँच्चै हो, म आफ्नै देशबाट लखेटिएको मान्छे ।' ',']\n"
     ]
    }
   ],
   "source": [
    "print(df.Text[87])"
   ]
  },
  {
   "cell_type": "markdown",
   "id": "cda707ab-eb8a-43de-8c0f-eefb545fa7b6",
   "metadata": {},
   "source": [
    "The texts are much better; the poems are readable,  but I am not interested in analyzing each line but rather in analyzing words, so I will split each poem by word and make a new column!\n",
    "After making a list of all words in a poem, I will use some filters to remove punctuations and unwanted Unicode characters! "
   ]
  },
  {
   "cell_type": "markdown",
   "id": "4814686b-8e7d-4166-914f-83667df8dce8",
   "metadata": {
    "tags": []
   },
   "source": [
    "####  Make a new column with list of words"
   ]
  },
  {
   "cell_type": "code",
   "execution_count": 10,
   "id": "b94f7778-173e-4702-8987-a528b93ddc34",
   "metadata": {},
   "outputs": [],
   "source": [
    "df['Words']=df['Text'].apply(lambda x: str(x).split(\" \"))"
   ]
  },
  {
   "cell_type": "markdown",
   "id": "2f1d10a1-8004-41e9-ac64-323cde024dd7",
   "metadata": {},
   "source": [
    "### Now Remove punctuation, unwanted Unicode characters, and empty words.\n"
   ]
  },
  {
   "cell_type": "code",
   "execution_count": 11,
   "id": "a467e761-adc9-41c2-8991-39ecc27f6a00",
   "metadata": {},
   "outputs": [],
   "source": [
    "punctuations = ['–','.','”','“','‘','’', '\\n', 'nn','n', '।','/','!!','!!!', '\"','`', '+', '\"', '?', '▁','(', '$', '@', '[', '_', \"'\", '!', ',', ':', '^', '|', ']', '=', '%', '&', '.', ')', '(', '#', '*', '', ';', '-', '}','|','\"',\n",
    "               '॥','—', '——', '……', '…………', '…']\n",
    "numbers=['०','१', '२','३', '४', '५', '६', '७', '८', '९']\n",
    "unicode=['\\u200d', '\\nn', '\\\\', \"''\\n\", \"'\\n\",\"''\\n\",\"।।'\", 'u200d','xa0','👎', '👍' ]\n",
    "\n",
    "to_be_removed =  punctuations+unicode+numbers\n",
    "for i in range(len(df)):\n",
    "    for j in range(len(df['Words'][i])):\n",
    "        for char in to_be_removed: \n",
    "            df['Words'][i][j]=df['Words'][i][j].replace(char,\"\")\n",
    "            \n",
    "# Remove empty words! \n",
    "for i in range(len(df)):\n",
    "    df['Words'][i]=list(filter(None, df['Words'][i]))            "
   ]
  },
  {
   "cell_type": "markdown",
   "id": "35b296a6-3b02-4882-921e-360e70ad9083",
   "metadata": {},
   "source": [
    "\n",
    "Let's examine words in the two example poems."
   ]
  },
  {
   "cell_type": "code",
   "execution_count": 12,
   "id": "d946b8f3-085f-486f-83c0-01c065efddc5",
   "metadata": {},
   "outputs": [
    {
     "name": "stdout",
     "output_type": "stream",
     "text": [
      "['बोल्दा', 'हेर्न', 'हुने', 'बसे', 'परपरै', 'कस्ले', 'बनायो', 'कुनी', 'खोल्दा', 'विश्व', 'सबै', 'छ', 'सुन्न', 'सकिने', 'राखेरयान्त्रिक्', 'ध्वनि', 'जस्तै', 'सङ्कटमा', 'बसेर', 'घरमा', 'चिन्ता', 'छ', 'फेस्बूकको', 'सारै', 'कष्ट', 'परे', 'भए', 'सरलता', 'हेर्ने', 'त', 'फेस्बूक', 'हो', 'धेरै', 'चिन्तन', 'छन्', 'गरे', 'मन', 'परे', 'लाग्दैन', 'पैसा', 'अनि', 'बाँडी', 'हेर्न', 'सकिन्छ', 'रे', 'मन', 'गरे', 'सेयर्', 'गरेरै', 'पनि', 'योगा', 'ध्यान', 'गरे', 'खिचेर', 'भिडियो', 'हाल्ने', 'त', 'फेस्बूक', 'भो', 'आमा', 'दाजु', 'दिदी', 'र', 'भाइबहिनी', 'हेर्ने', 'त', 'फेस्बूक', 'हो', 'मान्छे', 'जन्म', 'हुँदा', 'छ', 'हर्षित', 'उता', 'हालेर', 'फोटो', 'निकै', 'धेरै', 'पाठ', 'पढी', 'बनेर', 'गतिलो', 'हाल्दा', 'छ', 'फोटो', 'ठिकै', 'राजा', 'या', 'जनता', 'र', 'शासक', 'सबै', 'डुब्ने', 'त', 'फेस्बूक', 'भो', 'झुप्रोमा', 'घरमा', 'बसे', 'सहरमा', 'हेर्ने', 'त', 'फेस्बूक', 'हो', 'लाग्दा', 'भोक', 'उता', 'किनेर', 'मसिनो', 'हालेर', 'फेस्बूकमा', 'खान्छन्', 'झट्ट', 'किनी', 'गई', 'झटपटी', 'मान्छे', 'त', 'होटेलमा', 'भान्सा', 'भात', 'लिटो', 'चढाउनु', 'अघीहाल्ने', 'त', 'फेस्बूकभोआधा', 'घण्ट', 'नभै', 'बसेर', 'अलिबेर्', 'हेर्ने', 'त', 'फेस्बूक', 'हो', 'कस्ले', 'के', 'गहना', 'किने', 'पसलमा', 'पैसा', 'तिरेछन्', 'कति', 'बाली', 'खेत', 'खिची', 'बताउँछ', 'छिटो', 'केके', 'भयो', 'उन्नति', 'कोदालो', 'हँसिया', 'चलाउनु', 'अघी', 'फेरेर', 'फेस्बूकको', 'बाँझो', 'खन्न', 'परे', 'चिया', 'दिनुपरे', 'हेर्ने', 'त', 'फेस्बूक', 'हो', 'जाँदा', 'बाथ्रुममा', 'चलाउनु', 'बसी', 'भान्सा', 'र', 'कोठा', 'पिँडी', 'पूजा', 'पाठ', 'भुली', 'बिहान', 'दिनमा', 'फेस्बूक', 'हात्मा', 'बिडी', 'फोटो', 'हेर्नु', 'सुती', 'उठी', 'पलङमा', 'कोट्याइ', 'फेस्बूकको', 'रातीमा', 'दिनमा', 'कुनै', 'समयमा', 'हेर्ने', 'त', 'फेस्बूक', 'हो', 'नेपालीहरुले', 'डुलेर', 'बहुतै', 'फोटो', 'खिचेका', 'थिए', 'भेट्दा', 'टावर', 'ती', 'बसेर', 'सबले', 'फेस्बूकमा', 'हाल्दिए', 'जाने', 'मार्ग', 'कता', 'छ', 'त्यो', 'मन', 'गरी', 'खोजेर', 'फेस्बूकको', 'गाडी', 'मोटरमा', 'गुडेसब', 'जनाहेर्ने', 'त', 'फेस्बूक', 'हो', 'लौरी', 'हात', 'लिई', 'सुतेर', 'बसने', 'आँखै', 'नदेख्नेहरू', 'गाँडो', 'फेस्बुकमा', 'पकाउँछ', 'ठिटी', 'कस्को', 'कुरा', 'के', 'गरौँ', 'लोकै', 'तर्छु', 'भनी', 'बडा', 'गजबको', 'खोलेर', 'फेस्बूक', 'यो', 'मान्छे', 'मर्नु', 'अगी', 'सुती', 'पलङमा', 'हेर्ने', 'त', 'फेस्बूक', 'हो', 'एड्लेड', 'अस्ट्रेलिया']\n"
     ]
    }
   ],
   "source": [
    "print(df.Words[1])"
   ]
  },
  {
   "cell_type": "code",
   "execution_count": 13,
   "id": "f3b5bebe-8db1-4ca9-a389-089ff5afb702",
   "metadata": {},
   "outputs": [
    {
     "name": "stdout",
     "output_type": "stream",
     "text": [
      "['हो', 'म', 'हजारौँ', 'चोटि', 'पटक', 'पटक', 'लुटिएको', 'मान्छे', 'अनि', 'सयौँ', 'पटक', 'ठगिनसम्म', 'ठगिएको', 'मान्छे', 'भिडमा', 'गन्दागन्दै', 'गन्तीमा', 'हराएको', 'मान्छे', 'बोल्दाबोल्दै', 'कैयौँ', 'पटक', 'बोली', 'भासिएको', 'मान्छे', 'बस्दाबस्दै', 'बसेकै', 'ठाउँबाट', 'लखेटिएको', 'मान्छे', 'हो', 'म', 'आफ्नै', 'देशबाट', 'निकालिएको', 'मान्छे', 'रोग', 'भोक', 'अनि', 'नाङ्गो', 'शरीर', 'बुझेको', 'मान्छे', 'देशमा', 'सुनगाभा', 'र', 'सुनाखरी', 'रोप्न', 'खोज्दै', 'गर्दा', 'मन', 'फाटेको', 'मान्छे', 'साँच्चै', 'हो', 'म', 'आफ्नै', 'देशबाट', 'लखेटिएको', 'मान्छे', 'गाँस', 'बास', 'र', 'कपासको', 'भिख', 'तिमीसँग', 'माग्ने', 'मान्छे', 'पक्का', 'हो', 'धेरैसँग', 'हात', 'फिँजाई', 'मागी', 'खाएको', 'मान्छे', 'हो', 'म', 'त', 'असजिलो', 'समय', 'र', 'परिवेशमा', 'भिजेको', 'मान्छे', 'पीडा', 'माया', 'ममता', 'अनि', 'दुःख', 'सुख', 'सबै', 'बोकेको', 'मान्छे', 'तर', 'अझै', 'पनि', 'आकाश', 'छुने', 'लक्ष्य', 'बोकेर', 'अघि', 'बढेको', 'मान्छे', 'देशमा', 'परिवर्तन', 'हेर्ने', 'भिखको', 'ऋण', 'तिर्ने', 'जोस', 'भएको', 'मान्छे', 'पछाडिबाट', 'छुरा', 'रोप्ने', 'साथीभन्दा', 'अगाडिबाट', 'छुरा', 'रोप्ने', 'दुस्मन', 'प्यारो', 'मान्ने', 'मान्छे', 'त्यसैले', 'शान', 'नदेखाऊ', 'तिमी', 'म', 'बिना', 'कसुरको', 'मान्छे', 'हो', 'म', 'आफ्नै', 'देशबाट', 'निकालिएको', 'मान्छे', 'साँच्चै', 'हो', 'म', 'आफ्नै', 'देशबाट', 'लखेटिएको', 'मान्छे']\n"
     ]
    }
   ],
   "source": [
    "print(df.Words[87])"
   ]
  },
  {
   "cell_type": "markdown",
   "id": "1614def1-8457-4290-963b-d5545d144da0",
   "metadata": {},
   "source": [
    "Almost all of the unwanted texts are now gone, and the list consists of pure words. Now we will do some simple analysis. \n"
   ]
  },
  {
   "cell_type": "markdown",
   "id": "d720a33b-4f36-41d1-b17f-041d28fc96aa",
   "metadata": {},
   "source": [
    "## Analysis\n",
    "I will make a word count for counting the number of words in each poem. After that, I will find three writers who wrote the longest and shortest three poems. In a literary sense, this analysis has no value. Staking words doesn't make poems; neither a short one is the best. However, in the quantitive world, finding long and short is interesting, to say the least. \n",
    "\n"
   ]
  },
  {
   "cell_type": "markdown",
   "id": "3702e39f-a82a-46ca-83b6-596718601706",
   "metadata": {},
   "source": [
    "#### Make a word count table and print Poets who wrote long poems! "
   ]
  },
  {
   "cell_type": "code",
   "execution_count": 14,
   "id": "4dfd607f-0103-446e-9c69-c642c3f75009",
   "metadata": {},
   "outputs": [],
   "source": [
    "df['word_count']=df['Words'].apply(lambda x: len(x))"
   ]
  },
  {
   "cell_type": "code",
   "execution_count": 15,
   "id": "37c3ac12-5a2d-4554-a6c5-f9a7682139f3",
   "metadata": {},
   "outputs": [
    {
     "data": {
      "text/html": [
       "<div>\n",
       "<style scoped>\n",
       "    .dataframe tbody tr th:only-of-type {\n",
       "        vertical-align: middle;\n",
       "    }\n",
       "\n",
       "    .dataframe tbody tr th {\n",
       "        vertical-align: top;\n",
       "    }\n",
       "\n",
       "    .dataframe thead th {\n",
       "        text-align: right;\n",
       "    }\n",
       "</style>\n",
       "<table border=\"1\" class=\"dataframe\">\n",
       "  <thead>\n",
       "    <tr style=\"text-align: right;\">\n",
       "      <th></th>\n",
       "      <th>Writers</th>\n",
       "      <th>Poems</th>\n",
       "      <th>word_count</th>\n",
       "    </tr>\n",
       "  </thead>\n",
       "  <tbody>\n",
       "    <tr>\n",
       "      <th>131</th>\n",
       "      <td>यतिराज अजनबी</td>\n",
       "      <td>केही यक्ष प्रश्नहरू</td>\n",
       "      <td>795</td>\n",
       "    </tr>\n",
       "    <tr>\n",
       "      <th>6</th>\n",
       "      <td>आइती राई</td>\n",
       "      <td>मेरो प्रश्न छ</td>\n",
       "      <td>760</td>\n",
       "    </tr>\n",
       "    <tr>\n",
       "      <th>117</th>\n",
       "      <td>विश्वास लामा</td>\n",
       "      <td>जीवनको ग्रेटवाल उभिएर</td>\n",
       "      <td>652</td>\n",
       "    </tr>\n",
       "  </tbody>\n",
       "</table>\n",
       "</div>"
      ],
      "text/plain": [
       "          Writers                  Poems  word_count\n",
       "131  यतिराज अजनबी    केही यक्ष प्रश्नहरू         795\n",
       "6        आइती राई          मेरो प्रश्न छ         760\n",
       "117  विश्वास लामा  जीवनको ग्रेटवाल उभिएर         652"
      ]
     },
     "execution_count": 15,
     "metadata": {},
     "output_type": "execute_result"
    }
   ],
   "source": [
    "indexH=df.sort_values('word_count', axis=0, ascending=False)[0:3].index\n",
    "df.loc[indexH,['Writers','Poems','word_count']]"
   ]
  },
  {
   "cell_type": "code",
   "execution_count": 16,
   "id": "d9fbab6b-4181-4ed7-82bc-a6617f8302b9",
   "metadata": {},
   "outputs": [
    {
     "data": {
      "text/html": [
       "<div>\n",
       "<style scoped>\n",
       "    .dataframe tbody tr th:only-of-type {\n",
       "        vertical-align: middle;\n",
       "    }\n",
       "\n",
       "    .dataframe tbody tr th {\n",
       "        vertical-align: top;\n",
       "    }\n",
       "\n",
       "    .dataframe thead th {\n",
       "        text-align: right;\n",
       "    }\n",
       "</style>\n",
       "<table border=\"1\" class=\"dataframe\">\n",
       "  <thead>\n",
       "    <tr style=\"text-align: right;\">\n",
       "      <th></th>\n",
       "      <th>Writers</th>\n",
       "      <th>Poems</th>\n",
       "      <th>word_count</th>\n",
       "    </tr>\n",
       "  </thead>\n",
       "  <tbody>\n",
       "    <tr>\n",
       "      <th>56</th>\n",
       "      <td>डी. एन्. काफ्ले</td>\n",
       "      <td>शहीद र म</td>\n",
       "      <td>40</td>\n",
       "    </tr>\n",
       "    <tr>\n",
       "      <th>102</th>\n",
       "      <td>मौसमी ढुङ्गाना</td>\n",
       "      <td>दशैँको याद</td>\n",
       "      <td>50</td>\n",
       "    </tr>\n",
       "    <tr>\n",
       "      <th>82</th>\n",
       "      <td>पुजन राई</td>\n",
       "      <td>चित्र</td>\n",
       "      <td>52</td>\n",
       "    </tr>\n",
       "  </tbody>\n",
       "</table>\n",
       "</div>"
      ],
      "text/plain": [
       "             Writers       Poems  word_count\n",
       "56   डी. एन्. काफ्ले   शहीद र म           40\n",
       "102  मौसमी ढुङ्गाना   दशैँको याद          50\n",
       "82          पुजन राई      चित्र           52"
      ]
     },
     "execution_count": 16,
     "metadata": {},
     "output_type": "execute_result"
    }
   ],
   "source": [
    "indexS=df.sort_values('word_count', axis=0, ascending=True)[0:3].index\n",
    "df.loc[indexS,['Writers','Poems','word_count']]"
   ]
  },
  {
   "cell_type": "markdown",
   "id": "416e159e-c566-4fee-be2f-10b57fa03cd6",
   "metadata": {},
   "source": [
    "\"यतिराज अजनबी\" Has an awful lot of questions! God knows how long the answers would be; I better write a book for him. \n",
    "Joke aside, let's read the shortest Poem, shall we? "
   ]
  },
  {
   "cell_type": "code",
   "execution_count": 17,
   "id": "90f553d1-2e98-40bf-b932-398f35b2c4d3",
   "metadata": {},
   "outputs": [
    {
     "name": "stdout",
     "output_type": "stream",
     "text": [
      "['उसले माटो पियो' 'माटोमै रोप्यो जिन्दगी' 'र निर्भय'\n",
      " 'फुलायो जिन्दगी भित्रका' 'हजार सपनाहरू' 'अपार मुस्कानहरू ।' 'म नाथु !'\n",
      " 'जिन्दगीको लालचमा फसेर' 'स्वप्नभित्र स्वप्न रोपेँ' 'र बाटा लागेँ'\n",
      " 'म पलपल मरेर बाँचिरहेँ' '-एकादेशको नागरिक भएँ' 'ऊ मरेर पलपल बाँचिरह्यो'\n",
      " '-पुण्यभूमिको शहीद भयो । ,']\n"
     ]
    }
   ],
   "source": [
    "print(df.loc[indexS[0],'Text'])"
   ]
  },
  {
   "cell_type": "markdown",
   "id": "4678f06f-e126-4313-b549-d3d161ce0355",
   "metadata": {},
   "source": [
    "For a quantitive analyst, an analysis is not complete without a graph, so let's do one!  \n"
   ]
  },
  {
   "cell_type": "code",
   "execution_count": null,
   "id": "feec25fc-dce7-4794-8695-9f301e2e8a7e",
   "metadata": {},
   "outputs": [],
   "source": [
    "df.plot(y = 'word_count',figsize=(7,4), grid=True, ylabel='Number of words', linestyle='-',marker='o', xlabel='Poem index', label='No of words per poem')\n",
    "plt.savefig('NoWords.png',dpi=300)"
   ]
  },
  {
   "cell_type": "markdown",
   "id": "e33aab70-da31-448f-bd4d-73bf708faeb1",
   "metadata": {},
   "source": [
    "## Classification by writers  (Sex, Country) and Categories of Poems and creation of a new table!\n",
    "\n",
    "The Editors of the Original book defined the book's poems, writers, and categories. They divided each poem into 18 themes and categorized each poem into 5 Broad Categories. \n",
    "I got an excel sheet from the editors, and this sheet was different from the book. But we can use pandas to do some manipulations! \n",
    "\n",
    "I read the excel tables (From a sheet called Coding-old.xlsx), stripped all spaces, and matched \"Poem Names\" to get data on Poets and Poems to the existing table.\n"
   ]
  },
  {
   "cell_type": "code",
   "execution_count": null,
   "id": "30778cc5-72cf-4f12-896b-8b291df048ec",
   "metadata": {},
   "outputs": [],
   "source": [
    "A=pd.read_excel('Coding-old-old.xlsx',sheet_name='This')\n",
    "A['Poem']=A['Poem'].str.strip()\n",
    "df['Poems']=df['Poems'].str.strip()\n",
    "df3 = pd.merge(df, A, left_on=\"Poems\", right_on=\"Poem\",how='inner')\n",
    "print(len(df3))\n",
    "df3.head()"
   ]
  },
  {
   "cell_type": "markdown",
   "id": "0ea43aa9-a7af-4d7c-a323-9a5af174e936",
   "metadata": {},
   "source": [
    "The Length of the new table is longer than the original one. There must be some problems. Let's check if there are any duplicate Poems that got copied twice! "
   ]
  },
  {
   "cell_type": "code",
   "execution_count": null,
   "id": "080f1de0-5f11-4116-b3ca-eeb6ac28caa9",
   "metadata": {},
   "outputs": [],
   "source": [
    "seen = set()\n",
    "dupes = [x for x in df.Poems if x in seen or seen.add(x)] \n",
    "df3[df3.Poems.isin(dupes)].head()"
   ]
  },
  {
   "cell_type": "markdown",
   "id": "cb9ecaf4-861a-44d1-81c3-d33f42dd735d",
   "metadata": {},
   "source": [
    "Indeed the poem titled 'मान्छे'is repeated. That created two duplicates! I will find out if there are two poems of the same name! If so, I will drop duplicates! I also drop some unwanted columns inherited from the old Table"
   ]
  },
  {
   "cell_type": "code",
   "execution_count": null,
   "id": "ddc77a51-6354-4d88-96e0-ba7e297841dd",
   "metadata": {},
   "outputs": [],
   "source": [
    "df4=df3.drop_duplicates(subset=['Poems','Writers'], keep='first')\n",
    "df4=df4.drop(columns=['Poet','Poem', 'G/P','Broad category'])\n",
    "df4[df4.Poems=='मान्छे'].head()"
   ]
  },
  {
   "cell_type": "markdown",
   "id": "a7fdaeac-3932-49f6-b9d5-bcbf22399bd7",
   "metadata": {},
   "source": [
    "Now I make a plot of Poets and Poems by classified country of origin."
   ]
  },
  {
   "cell_type": "code",
   "execution_count": null,
   "id": "9a8178b8-ade8-489f-b98e-ba2ba7ba475a",
   "metadata": {},
   "outputs": [],
   "source": [
    "df4.groupby(by=['Country'],as_index=False)[df4.columns[:1]].nunique().plot(kind='bar',x='Country',ylabel='Numbers', xlabel=\"\")"
   ]
  },
  {
   "cell_type": "code",
   "execution_count": null,
   "id": "a09ce4da-c704-416e-b69c-e1914d4b62bf",
   "metadata": {},
   "outputs": [],
   "source": [
    "df4.groupby(by=['Theme'],as_index=False)[df4.columns[7]].nunique().plot(kind='bar',x='Theme')"
   ]
  },
  {
   "cell_type": "markdown",
   "id": "ffea2ea2-1865-4150-ab00-6c5aee1a297e",
   "metadata": {},
   "source": [
    "Poems had multiple themes, and they were stored in the same column. This is not effective for programming. I will split them into primary and secondary themes. One poem has up to 4 themes\n",
    "I make new tables with themes for each poem but only included 4 themes! \n"
   ]
  },
  {
   "cell_type": "code",
   "execution_count": null,
   "id": "36db2aea-a8d3-439d-b257-e53c12e0b54d",
   "metadata": {},
   "outputs": [],
   "source": [
    "import collections\n",
    "df4['ThemeTemp'] = df4['Theme'].apply(lambda x: str(x).split(\",\"))\n",
    "ThemeList=[item for sublist in df4['ThemeTemp'] for item in sublist]\n",
    "Themefrequency = collections.Counter(ThemeList)\n",
    "print('Poems were categorised in to the following themes:\\n', np.unique([item for sublist in df4['ThemeTemp'] for item in sublist]))\n",
    "len(np.unique([item for sublist in df4['ThemeTemp'] for item in sublist]))"
   ]
  },
  {
   "cell_type": "code",
   "execution_count": null,
   "id": "f25e7e89-1faa-4ea1-b3a9-da2b1c77d1ae",
   "metadata": {},
   "outputs": [],
   "source": [
    "df4['Theme1']=df4['ThemeTemp'].apply(lambda x: x[0])\n",
    "df4['Theme2']=df4['ThemeTemp'].apply(lambda x: x[1] if len(x)>1 else 'None' )\n",
    "df4['Theme3']=df4['ThemeTemp'].apply(lambda x: x[2] if len(x)>2 else 'None' )\n",
    "df4['Theme4']=df4['ThemeTemp'].apply(lambda x: x[3] if len(x)>3 else 'None' )\n",
    "\n",
    "\n",
    "df4['Theme1']=df4['Theme1'].apply(lambda x: str(x).strip())\n",
    "df4['Theme2']=df4['Theme2'].apply(lambda x: str(x).strip())\n",
    "df4['Theme3']=df4['Theme3'].apply(lambda x: str(x).strip())\n",
    "df4['Theme4']=df4['Theme4'].apply(lambda x: str(x).strip())\n",
    "df4=df4.drop(columns=['ThemeTemp'])"
   ]
  },
  {
   "cell_type": "code",
   "execution_count": null,
   "id": "fb637750-d58e-4676-a26a-9f0e1614b03a",
   "metadata": {},
   "outputs": [],
   "source": [
    "df4.groupby(['Theme1', 'Theme2']).size()\n",
    "a,b=np.unique(df4[['Theme1', 'Theme2']],return_counts=True)\n",
    "plt.bar(a,b)"
   ]
  },
  {
   "cell_type": "markdown",
   "id": "41b650ea-14a6-41b6-9842-9c85fc6ecd20",
   "metadata": {},
   "source": [
    "These plots show Primary and Secondary theme distribution for each poem. Not all poems have a secondary theme. Therefore it isNone in Plot 2. \n",
    "Bhutanese writers are romantic; Fancy any of them? \n",
    "\n"
   ]
  },
  {
   "cell_type": "markdown",
   "id": "29e70dd7-010c-486a-b362-23f5e495ec47",
   "metadata": {},
   "source": [
    "\n",
    "Apart from these small categories Poems are classified into 5 Broader categories and this is in this table, So I read it and show here"
   ]
  },
  {
   "cell_type": "code",
   "execution_count": null,
   "id": "ecce388e-bd12-4504-8ca0-66a4065425f8",
   "metadata": {},
   "outputs": [],
   "source": [
    "Table=pd.read_excel('Coding-old.xlsx',sheet_name='CatName')\n",
    "Table"
   ]
  },
  {
   "cell_type": "markdown",
   "id": "7af2c9c4-f124-4044-b350-11e0572c223c",
   "metadata": {},
   "source": [
    "A Few mapping manipulations to create a table with Broad Categories! "
   ]
  },
  {
   "cell_type": "code",
   "execution_count": null,
   "id": "19e8005b-5a78-4393-ae99-0ebbe114de75",
   "metadata": {},
   "outputs": [],
   "source": [
    "APS=list(Table[Table.BigCat=='APS'].Code.values)\n",
    "BP=list(Table[Table.BigCat=='BP'].Code.values)\n",
    "SSS=list(Table[Table.BigCat=='SSS'].Code.values)\n",
    "PDM=list(Table[Table.BigCat=='PDM'].Code.values)\n",
    "NSA=list(Table[Table.BigCat=='NSA'].Code.values)\n",
    "\n",
    "\n",
    "def BroadCat(x):\n",
    "    APS=list(Table[Table.BigCat=='APS'].Code.values)\n",
    "    BP=list(Table[Table.BigCat=='BP'].Code.values)\n",
    "    SSS=list(Table[Table.BigCat=='SSS'].Code.values)\n",
    "    PDM=list(Table[Table.BigCat=='PDM'].Code.values)\n",
    "    NSA=list(Table[Table.BigCat=='NSA'].Code.values)\n",
    "    if type(x)==str:\n",
    "        x=x.strip()\n",
    "        \n",
    "    if x ==0:\n",
    "        BroadCat1='Null'\n",
    "    elif x in str(APS):\n",
    "        BroadCat1='APS'\n",
    "    elif x in str(BP):\n",
    "            BroadCat1='BP'\n",
    "    elif x in str(SSS):\n",
    "            BroadCat1='SSS'\n",
    "    elif x in str(PDM):\n",
    "            BroadCat1='PDM'\n",
    "    elif x in str(NSA):\n",
    "            BroadCat1='NSA' \n",
    "    else:\n",
    "        BroadCat1='Null'\n",
    "    return BroadCat1\n",
    "\n",
    "df4['BroadCat1']=df4['Theme1'].apply(lambda x: BroadCat(x))\n",
    "df4['BroadCat2']=df4['Theme2'].apply(lambda x: BroadCat(x))\n",
    "df4['BroadCat3']=df4['Theme3'].apply(lambda x: BroadCat(x))\n",
    "df4['BroadCat4']=df4['Theme4'].apply(lambda x: BroadCat(x))"
   ]
  },
  {
   "cell_type": "code",
   "execution_count": null,
   "id": "97fbd9e2-a7c4-4cc8-9e6f-cb8d2da15a5b",
   "metadata": {},
   "outputs": [],
   "source": [
    "df4.head()"
   ]
  },
  {
   "cell_type": "markdown",
   "id": "f21a1591-49be-4d6d-9a5c-49f83b2cbbc1",
   "metadata": {},
   "source": [
    "This Table (df4) includes information on Original Themes and Broad Categories, including Poet Information and the poem text!"
   ]
  },
  {
   "cell_type": "markdown",
   "id": "7d40e84d-ab92-4256-955e-cbb6138a5043",
   "metadata": {
    "tags": []
   },
   "source": [
    "## Word analysis of the whole book \n",
    "I start by making a list of all words in the book, printing unique words, and cleaning along the way!\n"
   ]
  },
  {
   "cell_type": "code",
   "execution_count": null,
   "id": "580cf758-85e3-43cf-9004-679c1938b3a1",
   "metadata": {},
   "outputs": [],
   "source": [
    "\n",
    "Allwords=[item for sublist in df4['Words'] for item in sublist]\n",
    "print('There are' , len(np.unique(Allwords)), 'unique words in the Book')\n",
    "print(' Most repeated 20 words: \\n', np.unique(Allwords)[1:20])"
   ]
  },
  {
   "cell_type": "markdown",
   "id": "bf408194-4fac-489c-95e1-8f8e8277bb5e",
   "metadata": {},
   "source": [
    "Oh! Where did this 'B4' Come from? Let me find out! "
   ]
  },
  {
   "cell_type": "code",
   "execution_count": null,
   "id": "10636b35-34cb-4770-ac0f-4067a6c3d097",
   "metadata": {},
   "outputs": [],
   "source": [
    "for i in range(len(df)):\n",
    "    if ('B4' in df.Words[i]):\n",
    "        print(\"Element is in Poem \", df.loc[i,'Poems'], \" written by \",df.loc[i,'Writers'] )\n"
   ]
  },
  {
   "cell_type": "markdown",
   "id": "5450e177-85c1-4493-9e27-5da61961bc4e",
   "metadata": {},
   "source": [
    "Shout out to \"लक्की राशि\" who must have been from Sector B/4. This is an inside joke; you won't get it! It is good to understand not everything is understandable to you! \n"
   ]
  },
  {
   "cell_type": "markdown",
   "id": "0d52d09b-ab48-44ed-9b94-cb907562e77e",
   "metadata": {},
   "source": [
    "#### Frequency count and WordCloud \n",
    "Let's find the most repetitive words and frequencies. I will print 50 most frequent words! \n",
    "I use a package called collections for this.\n"
   ]
  },
  {
   "cell_type": "code",
   "execution_count": null,
   "id": "c0a6d8fb-281f-4c91-9452-9916f942cc72",
   "metadata": {},
   "outputs": [],
   "source": [
    "import collections\n",
    "frequency = collections.Counter(Allwords)\n",
    "mostCommon=frequency.most_common(50)\n",
    "print(mostCommon)"
   ]
  },
  {
   "cell_type": "code",
   "execution_count": null,
   "id": "35b92dd5-1df1-478d-a6f8-a20e04612cf9",
   "metadata": {},
   "outputs": [],
   "source": [
    "dftemp= pd.DataFrame.from_dict(frequency, orient='index').reset_index()\n",
    "dftemp.to_excel('wordlistAll.xlsx',index=False)"
   ]
  },
  {
   "cell_type": "markdown",
   "id": "8dbd5d13-1148-4674-be41-cf3d2f0c55c9",
   "metadata": {},
   "source": [
    "## Lets do a word cloud of all the words"
   ]
  },
  {
   "cell_type": "code",
   "execution_count": null,
   "id": "35d9a3ca-c711-4cb6-8dd0-67271f3d2ff9",
   "metadata": {},
   "outputs": [],
   "source": [
    "from wordcloud import WordCloud\n",
    "\n",
    "font = \"Lohit-Devanagari.ttf\"\n",
    "dictionary=frequency\n",
    "wordcloud = WordCloud(width = 1000, height = 700,\n",
    "                background_color ='white',\n",
    "                min_font_size = 1, font_path= font, regexp=r\"[\\u0900-\\u097F]+// \\uFFFF\").generate_from_frequencies(dictionary)\n",
    "\n",
    "# plot the WordCloud image                      \n",
    "plt.figure(figsize = (18, 8), facecolor = None)\n",
    "plt.imshow(wordcloud,interpolation=\"bilinear\")\n",
    "plt.axis(\"off\")\n",
    "plt.tight_layout(pad = 0)\n",
    "plt.show()"
   ]
  },
  {
   "cell_type": "markdown",
   "id": "6a6f3ed2-fb23-4bfb-bfa4-ea36a26cc543",
   "metadata": {},
   "source": [
    "This is as best as python can do! Apparently it has some problems with Nepali text, but that does not stop us! We will\n",
    "use [Wordcloud](https://www.wordclouds.com/#:~:text=Wordclouds.com%20is%20a%20free,manually%20in%20the%20word%20list) website to produce beautiful pictures.\n"
   ]
  },
  {
   "cell_type": "markdown",
   "id": "c45b9627-f87f-46ff-8926-000f9cd46362",
   "metadata": {},
   "source": [
    "# Removal of small words "
   ]
  },
  {
   "cell_type": "markdown",
   "id": "770101f0-e3f2-46c1-8dbc-44171825e9aa",
   "metadata": {},
   "source": [
    "I would quantify most of this as small words. If the texts were in English, I could use some API to find words belonging to unwanted classes like all the conjunctions. We do not have that luxury in our language. There are a few python classes written; explain each of them in reference and give credit! Show how they work!\n",
    "\n",
    "We tried to use nepali_embeddings_word2vec.tx written by [Nobal B. Niraula](https://aclanthology.org/2021.repl4nlp-1.pdf) and also tried another library called Nepali_nlp written by [Sushil](https://github.com/sushil79g/Nepali_nlp)\n",
    "\n",
    "\n",
    "If you are reading this, please develop an API that reads Nepali Sabdhakosh and helps people filter words based on the Grammatical class: For Now, I continue! I could remove all words with less than two characters, but that does not make sense. As Devkota once said, small does not mean unimportant. The only option is to define own small words based on the list we have!\n",
    "\n",
    "I export the frequency list and mark the small words, and reread them to remove all small words. \n",
    " "
   ]
  },
  {
   "cell_type": "code",
   "execution_count": null,
   "id": "1f90d8e7-03fa-4827-8091-c265e2e5f5ee",
   "metadata": {},
   "outputs": [],
   "source": [
    "df3 = pd.DataFrame.from_dict(frequency, orient='index').reset_index()\n",
    "df3.to_excel('wordlistImp.xlsx',index=False)"
   ]
  },
  {
   "cell_type": "markdown",
   "id": "95fb5ad3-2597-4539-bfd4-43fbda92a05a",
   "metadata": {},
   "source": [
    "# Manual Removal of small words\n",
    "The word list saved above (wordlist) is manually checked, and words to remove were identified and saved as smallwords2, which has a list of small and big words. "
   ]
  },
  {
   "cell_type": "code",
   "execution_count": null,
   "id": "232e355a-5973-45ae-a0e0-027c25012b5a",
   "metadata": {},
   "outputs": [],
   "source": [
    "smallword=pd.read_csv('smallwords2.csv',sep=';')\n",
    "smallwords2=smallword[smallword.Column4=='remove']\n",
    "smallwords=list(smallwords2.Column1.values)"
   ]
  },
  {
   "cell_type": "markdown",
   "id": "3f60d622-6cd3-490f-b80b-c21d1b89e2ee",
   "metadata": {},
   "source": [
    "## A function to remove all small words "
   ]
  },
  {
   "cell_type": "code",
   "execution_count": null,
   "id": "5dfcf5aa-c85c-49fa-b5d2-db27ac959724",
   "metadata": {},
   "outputs": [],
   "source": [
    "def removewords(word,smallwords):\n",
    "    newlist=list(set(word)-set(smallwords))\n",
    "    return newlist\n"
   ]
  },
  {
   "cell_type": "markdown",
   "id": "c93724d6-cea3-4499-b4da-d6ff32388a4d",
   "metadata": {},
   "source": [
    "# After Removal of small words \n",
    "I removed all small words and saved the file as df_Final. I will do the word count of big words and quantify the remaining big words"
   ]
  },
  {
   "cell_type": "code",
   "execution_count": null,
   "id": "e4285596-3d36-4d70-be1b-b8d3197a3a24",
   "metadata": {},
   "outputs": [],
   "source": [
    "df_Final=df4.copy()\n",
    "df_Final['Words'] = df_Final.apply(lambda row : removewords(row['Words'],\n",
    "                                  smallwords), axis = 1)\n",
    "df_Final['word_count']=df_Final['Words'].apply(lambda x: len(x))\n",
    "df_Final['unique_big_words']=df_Final['Words'].apply(lambda x: len(np.unique(x)))\n",
    "plt.plot(df_Final['word_count'])"
   ]
  },
  {
   "cell_type": "markdown",
   "id": "c90698c2-2599-41e6-bb92-64d12215377f",
   "metadata": {},
   "source": [
    "Now I use frequency and counter library to do word cloud for text where small words are removed. "
   ]
  },
  {
   "cell_type": "code",
   "execution_count": null,
   "id": "89a97d39-f8ff-40ec-9d0c-9100d887e5e6",
   "metadata": {},
   "outputs": [],
   "source": [
    "AllwordsF=[item for sublist in df_Final['Words'] for item in sublist]\n",
    "import collections\n",
    "frequency = collections.Counter(AllwordsF)\n",
    "mostCommon=frequency.most_common(50)\n",
    "print('There are' , len(np.unique(AllwordsF)), 'unique words remaining')\n",
    "print('Most common 50 remaining words are: \\n', mostCommon)"
   ]
  },
  {
   "cell_type": "markdown",
   "id": "c2505ff1-2c9e-462f-9bde-25aab7a46b5f",
   "metadata": {},
   "source": [
    "### Word Cloud again"
   ]
  },
  {
   "cell_type": "code",
   "execution_count": null,
   "id": "46ec08e9-b818-4f28-b628-66ba0dbdabf4",
   "metadata": {},
   "outputs": [],
   "source": [
    "from wordcloud import WordCloud\n",
    "import re\n",
    "\n",
    "font = \"Lohit-Devanagari.ttf\"\n",
    "dictionary=frequency\n",
    "wordcloud = WordCloud(width = 1000, height = 700,\n",
    "                background_color ='white',\n",
    "                min_font_size = 1, font_path= font, regexp=r\"[\\u0900-\\u097F]+// \\uFFFF\").generate_from_frequencies(dictionary)\n",
    "\n",
    "# plot the WordCloud image                      \n",
    "plt.figure(figsize = (18, 8), facecolor = None)\n",
    "plt.imshow(wordcloud,interpolation=\"bilinear\")\n",
    "plt.axis(\"off\")\n",
    "plt.tight_layout(pad = 0)\n",
    "plt.show()"
   ]
  },
  {
   "cell_type": "markdown",
   "id": "4f285419-a34e-461f-99eb-4abf3a360447",
   "metadata": {},
   "source": [
    "\n"
   ]
  },
  {
   "cell_type": "markdown",
   "id": "88a1eda5-b2f1-441c-a2a6-ff7d29b77b6a",
   "metadata": {},
   "source": [
    "# Assigning Categories to each Words\n",
    "\n",
    "Each of 973 unique words that remained after cleaning was assigned manually into 181 codes and further into 18 different thematic categories. The categories are the same as the original thematic categories assigned by the Editors of the book. Unlike original qualitative categorization, here we classify words instead of poems into a category. An Excel sheet called (Coding-with-sub-categories-codes.xlsx) includes manual categorization. \n",
    "\n",
    "In the code, I read the excel sheet with word categories and manipulated the table. "
   ]
  },
  {
   "cell_type": "code",
   "execution_count": null,
   "id": "e31deaf1-4b96-4678-9530-b9af84e9130f",
   "metadata": {},
   "outputs": [],
   "source": [
    "Cat=pd.read_excel('Coding-with-sub-categories-codes.xlsx')\n",
    "Cat=Cat.iloc[:,:4]\n",
    "Cat.head()"
   ]
  },
  {
   "cell_type": "markdown",
   "id": "89a79c8b-dd9d-455b-9f6c-e750ee6b8567",
   "metadata": {},
   "source": [
    "# Show the distribution of Codes"
   ]
  },
  {
   "cell_type": "code",
   "execution_count": null,
   "id": "8e3abaa9-63ba-4ef6-9ddb-f638d98a9953",
   "metadata": {},
   "outputs": [],
   "source": [
    "AA=Cat.groupby(by=['Codes'],as_index=False)[Cat.columns[1]].sum()\n",
    "AA.sort_values(by ='Frequency',ascending=False)[:30].plot(x='Codes',y='Frequency',kind='bar',color='green',grid=True,figsize=(10,5), ylabel='Frequency')\n",
    "plt.savefig('Histo.png')"
   ]
  },
  {
   "cell_type": "markdown",
   "id": "6a513692-8ffc-457f-a6a7-3692d6597fef",
   "metadata": {},
   "source": [
    "# Determination of Poem Theme Based on Word Categories\n",
    "Now I will read each Big Word of each poem and classify them into Thematic categories based on the manually created excel table. \n",
    "I count the two most repeated themes in each poem and assign these two most repeated themes of a Poem as the theme of that particular poem. In the mail article I have only discussed one theme\n",
    "There are a few manipulation codes that might be understood on their own. \n"
   ]
  },
  {
   "cell_type": "code",
   "execution_count": null,
   "id": "036787c2-7174-4d65-a0d6-9093e8642723",
   "metadata": {},
   "outputs": [],
   "source": [
    "import re\n",
    "def CatofPoem(A):\n",
    "    p=[]\n",
    "    for i in range(len(A)):\n",
    "        p.append(Cat[Cat['Words']==A[i]].loc[:,'Sub-categories'].values)\n",
    "    return p\n",
    "    \n",
    "# A function to categorise words "
   ]
  },
  {
   "cell_type": "markdown",
   "id": "69d49be3-8b64-4149-ad90-502296ebd7dc",
   "metadata": {},
   "source": [
    "Here, I apply CatofPoem to each poem"
   ]
  },
  {
   "cell_type": "code",
   "execution_count": null,
   "id": "c8d2b074-0bee-4cca-becf-3de8e0960aa0",
   "metadata": {},
   "outputs": [],
   "source": [
    "df_Final['WordsC']=df_Final['Words'].apply(lambda x: CatofPoem(x))"
   ]
  },
  {
   "cell_type": "markdown",
   "id": "c348bda5-c07d-41db-b20b-45128f4720b7",
   "metadata": {},
   "source": [
    "From the list of Categories found in WordC, I count the most repeated two Categories and make two Themes! (In the article, only one category is used)"
   ]
  },
  {
   "cell_type": "code",
   "execution_count": null,
   "id": "ec8972e7-2532-4d91-b39b-e5bfcb0ebc00",
   "metadata": {},
   "outputs": [],
   "source": [
    "def FindCat(x):\n",
    "    b,c =np.unique(np.array(x),return_counts=True)\n",
    "    out = b[np.argsort(-c)]\n",
    "    return out[0]"
   ]
  },
  {
   "cell_type": "code",
   "execution_count": null,
   "id": "f2e3a4ce-0a3b-4b39-b2d9-860c65722b98",
   "metadata": {},
   "outputs": [],
   "source": [
    "def FindCat1(x):\n",
    "    b,c =np.unique(np.array(x),return_counts=True)\n",
    "    if c[np.argsort(-c)][2]>=4:\n",
    "        out= b[np.argsort(-c)][1]\n",
    "    else:\n",
    "        out='None'\n",
    "    return out"
   ]
  },
  {
   "cell_type": "code",
   "execution_count": null,
   "id": "9960e974-4da4-4d63-b2b0-6b3bf102d07b",
   "metadata": {},
   "outputs": [],
   "source": [
    "df_Final['WordsUC']=df_Final['WordsC'].apply(lambda x: np.unique(np.array(x),return_counts=True))"
   ]
  },
  {
   "cell_type": "code",
   "execution_count": null,
   "id": "225cd006-d075-4e14-ac3e-d6c991208e45",
   "metadata": {},
   "outputs": [],
   "source": [
    "df_Final['Catt1']=df_Final['WordsC'].apply(lambda x: FindCat(x))\n",
    "df_Final['Catt2']=df_Final['WordsC'].apply(lambda x: FindCat1(x))\n",
    "\n",
    "df_Final['BCatt1']=df_Final['Catt1'].apply(lambda x: BroadCat(x))\n",
    "df_Final['BCatt2']=df_Final['Catt2'].apply(lambda x: BroadCat(x))\n",
    "\n",
    "df_Final['Catt1']=df_Final['Catt1'].apply(lambda x: str(x))\n",
    "df_Final['Catt2']=df_Final['Catt2'].apply(lambda x: str(x))"
   ]
  },
  {
   "cell_type": "code",
   "execution_count": null,
   "id": "613f3eb6-85bb-4bb5-bec4-4a89c64fd6a8",
   "metadata": {},
   "outputs": [],
   "source": [
    "df_Final.head()"
   ]
  },
  {
   "cell_type": "markdown",
   "id": "afd113db-7bc5-4738-b83c-6c2e56576b39",
   "metadata": {},
   "source": [
    "This is the Final Table that has the original thematic categories and the new ones. \n",
    "The original Broad Categories and new Broad Categories are also included. \n",
    "The Table also includes the original text and important words removed after processing, along with Author info. "
   ]
  },
  {
   "cell_type": "markdown",
   "id": "06f80f1d-dec3-4765-acd6-d3273496e58d",
   "metadata": {},
   "source": [
    "# Machine Theme VS the Original Theme (Analysis Presented in the book) \n",
    "Here, I only compare Quantative Cattegory (Catt1) with original qualatitive Category (Up to 4)"
   ]
  },
  {
   "cell_type": "code",
   "execution_count": null,
   "id": "668dbe4c-6735-4c6b-8618-04022bebe1e7",
   "metadata": {},
   "outputs": [],
   "source": [
    "a=df_Final['Catt1']==df_Final['Theme1']\n",
    "b=df_Final['Catt1']==df_Final['Theme2']\n",
    "c=df_Final['Catt1']==df_Final['Theme3']\n",
    "d=df_Final['Catt1']==df_Final['Theme4']\n",
    "\n",
    "e=a | b\n",
    "f=c | d\n",
    "g=e | f\n",
    "df_Final['MatchT'] = df_Final.apply(lambda _: '', axis=1)\n",
    "df_Final.loc[g,'MatchT']='Yes'\n",
    "plt.plot(df_Final.MatchT)\n",
    "print(sum(df_Final.MatchT=='Yes'), 'Poems matched')"
   ]
  },
  {
   "cell_type": "markdown",
   "id": "b4b5e9fd-225b-4d53-b3c7-51b542fef311",
   "metadata": {},
   "source": [
    "The plot shows only 24 poems quantified as Catt1, had a match with original qualitative themes. "
   ]
  },
  {
   "cell_type": "markdown",
   "id": "af767cf6-b0d2-46a8-ae5a-7a3b0ac39d5f",
   "metadata": {},
   "source": [
    "### Comparison of Broad Categories\n",
    "I match Bcatt1 (quantitative broad Categories) with qualitative original broad themes! "
   ]
  },
  {
   "cell_type": "code",
   "execution_count": null,
   "id": "7d8cfd4f-569f-4e3f-985d-326ef6e4df35",
   "metadata": {},
   "outputs": [],
   "source": [
    "a=df_Final['BCatt1']==df_Final['BroadCat1']\n",
    "b=df_Final['BCatt1']==df_Final['BroadCat2']\n",
    "c=df_Final['BCatt1']==df_Final['BroadCat3']\n",
    "d=df_Final['BCatt1']==df_Final['BroadCat4']\n",
    "\n",
    "\n",
    "e=a | b\n",
    "f=c | d\n",
    "g=e | f\n",
    "df_Final['MatchBC'] = df_Final.apply(lambda _: '', axis=1)\n",
    "df_Final.loc[g,'MatchBC']='Yes'\n",
    "plt.plot(df_Final.MatchBC)\n",
    "print(sum(df_Final.MatchBC=='Yes'), 'Poems matched')"
   ]
  },
  {
   "cell_type": "markdown",
   "id": "070fc85f-7ccf-44c8-b2ef-db24ae0c90c9",
   "metadata": {},
   "source": [
    "### Finally I plot this nice Figure "
   ]
  },
  {
   "cell_type": "code",
   "execution_count": null,
   "id": "d8fe052a-4f73-48e3-8f4c-47b298481afe",
   "metadata": {},
   "outputs": [],
   "source": [
    "import plotly.express as px\n",
    "fig = px.treemap(df_Final, path=[ 'BCatt1', 'Catt1', 'Poems'], values='word_count',\n",
    "                  color='MatchBC', hover_data=['Poems'],\n",
    "                  color_continuous_midpoint=np.average(df_Final['word_count'], weights=df_Final['word_count']), width=1000, height=600)\n",
    "fig.update_layout(margin = dict(t=50, l=25, r=25, b=25))\n",
    "\n",
    "fig.write_image(\"plot.png\",scale=6) \n",
    "\n",
    "fig.show()\n"
   ]
  },
  {
   "cell_type": "markdown",
   "id": "ad715dad-9121-4119-baa0-19ca430fe665",
   "metadata": {},
   "source": [
    "# Further Classification if two Quantative sub and broad Categories were used "
   ]
  },
  {
   "cell_type": "markdown",
   "id": "c99af0f4-8c8c-4338-b720-9df37e04167a",
   "metadata": {},
   "source": [
    "### A Look at the subcategory level (1st classification and the second classification)\n",
    "The Match percentage was 45 when I only did 1 quantitative sub-category. Will this improve if I assign 2 quantitative sub and main categories? \n"
   ]
  },
  {
   "cell_type": "code",
   "execution_count": null,
   "id": "0b2d16da-ae9e-47dd-aeff-0c766e98ee1a",
   "metadata": {},
   "outputs": [],
   "source": [
    "A=df_Final.groupby(by=['Theme1'],as_index=False)[df_Final.columns[:1]].nunique()\n",
    "B=df_Final.groupby(by=['Catt1'],as_index=False)[df_Final.columns[:1]].nunique()\n",
    "figure(figsize=(8, 4), dpi=80)\n",
    "plt.bar(A.Theme1,A.Writers,label='Qualatitive Classification')\n",
    "plt.bar(B.Catt1,B.Writers,width=0.5,label='Quantitative Classification')\n",
    "plt.legend()\n",
    "plt.ylabel('No. of poems')\n",
    "plt.xlabel('Sub Categories')"
   ]
  },
  {
   "cell_type": "code",
   "execution_count": null,
   "id": "db1e3c8e-887a-4701-aa53-26da1cadf534",
   "metadata": {},
   "outputs": [],
   "source": [
    "A=df_Final.groupby(by=['Theme2'],as_index=False)[df_Final.columns[:1]].nunique()\n",
    "B=df_Final.groupby(by=['Catt2'],as_index=False)[df_Final.columns[:1]].nunique()\n",
    "figure(figsize=(8, 4), dpi=80)\n",
    "plt.bar(A.Theme2,A.Writers,label='Qualatitive Classification')\n",
    "plt.bar(B.Catt2,B.Writers,width=0.5,label='Quantitative Classification')\n",
    "plt.legend()\n",
    "plt.ylabel('No. of poems')\n",
    "plt.xlabel('Sub Categories')"
   ]
  },
  {
   "cell_type": "markdown",
   "id": "e9deb65a-b8bb-4163-a640-d25d2d8b60b9",
   "metadata": {},
   "source": [
    "Two system look different, why? \n"
   ]
  },
  {
   "cell_type": "markdown",
   "id": "12be1874-5a4c-4265-a8c3-dc86f15c17ab",
   "metadata": {},
   "source": [
    "# Machine Categories VS the Broad Themes"
   ]
  },
  {
   "cell_type": "code",
   "execution_count": null,
   "id": "a2c95f9b-4a51-4168-a6e1-efaaaf2bc8af",
   "metadata": {},
   "outputs": [],
   "source": [
    "A=df_Final.groupby(by=['BroadCat1'],as_index=False)[df_Final.columns[:1]].nunique()\n",
    "B=df_Final.groupby(by=['BCatt1'],as_index=False)[df_Final.columns[:1]].nunique()\n",
    "\n",
    "figure(figsize=(8, 4), dpi=80)\n",
    "\n",
    "plt.bar(A.BroadCat1,A.Writers,label='Qualatitive Classification')\n",
    "plt.bar(B.BCatt1,B.Writers,width=0.5,label='Quantitative Classification')\n",
    "plt.legend()\n",
    "plt.ylabel('No. of poems')\n",
    "plt.xlabel('Main Category')"
   ]
  },
  {
   "cell_type": "markdown",
   "id": "69966f73-995b-40c2-a0c5-a8a2958c4e62",
   "metadata": {},
   "source": [
    "No NSA in Machine classification! \n",
    "For sake of completeness, I also plot the same for Second Broad Category. "
   ]
  },
  {
   "cell_type": "code",
   "execution_count": null,
   "id": "a8834b50-a8fe-421a-ab40-b2ea406b2e4c",
   "metadata": {},
   "outputs": [],
   "source": [
    "A=df_Final.groupby(by=['BroadCat2'],as_index=False)[df_Final.columns[:1]].nunique()\n",
    "B=df_Final.groupby(by=['BCatt2'],as_index=False)[df_Final.columns[:1]].nunique()\n",
    "\n",
    "figure(figsize=(8, 4), dpi=80)\n",
    "\n",
    "plt.bar(A.BroadCat2,A.Writers,label='Qualatitive Classification')\n",
    "plt.bar(B.BCatt2,B.Writers,width=0.5,label='Quantitative Classification')\n",
    "plt.legend()\n",
    "plt.ylabel('No. of poems')\n",
    "plt.xlabel('Main Category')\n"
   ]
  },
  {
   "cell_type": "markdown",
   "id": "0243c86e-e14f-4e2f-af2f-eedc02676854",
   "metadata": {},
   "source": [
    "## Find How Many Poems Matched Theme!"
   ]
  },
  {
   "cell_type": "code",
   "execution_count": null,
   "id": "e005b496-4ea9-4b6b-b537-90a21a07663c",
   "metadata": {},
   "outputs": [],
   "source": [
    "print(len(df_Final[df_Final.Theme1==df_Final.Catt1]), ' Poems Matched Primary Theme with Primary Theme (Machine)' )\n",
    "print(len(df_Final[df_Final.Theme1==df_Final.Catt2]), ' Poems Matched Primary Theme with Secondary Theme (Machine)' )\n",
    "print(len(df_Final[df_Final.Theme2==df_Final.Catt1]),  ' Poems Matched Secondary Theme with Primary  Theme (Machine)')\n",
    "print(len(df_Final[df_Final.Theme2==df_Final.Catt2]), ' Poems Matched Secondary Theme with Secondary Theme (Machine)' )"
   ]
  },
  {
   "cell_type": "markdown",
   "id": "a9404136-0da7-4f54-8ec7-e49da0f4fe8f",
   "metadata": {},
   "source": [
    "## Now Check Broad Categories!"
   ]
  },
  {
   "cell_type": "code",
   "execution_count": null,
   "id": "566a9cd9-ed3c-4770-96d3-31901ecfff9c",
   "metadata": {},
   "outputs": [],
   "source": [
    "a=df_Final.BroadCat1==df_Final.BCatt1\n",
    "b=df_Final.BroadCat1==df_Final.BCatt2\n",
    "c=df_Final.BroadCat2==df_Final.BCatt2\n",
    "d=df_Final.BroadCat2==df_Final.BCatt2\n",
    "\n",
    "e=a | b\n",
    "f=c | d\n",
    "g=e | f\n",
    "\n",
    "print(len(df_Final[df_Final.BroadCat1==df_Final.BCatt1]), ' Poems Matched 1st Broad Category with 1st Broad Category (Machine)' )\n",
    "print(len(df_Final[df_Final.BroadCat1==df_Final.BCatt2]), ' Poems Matched 1st Broad Category with 2nd Broad Category (Machine)' )\n",
    "print(len(df_Final[df_Final.BroadCat2==df_Final.BCatt1]), ' Poems Matched 2nd Broad Category with 1st Broad Category (Machine)' )\n",
    "print(len(df_Final[df_Final.BroadCat2==df_Final.BCatt2]), ' Poems Matched 2nd Broad Category with 2nd Broad Category (Machine)' )\n",
    "print(len(df_Final[g]), ' Poems Matched at least 1 Broad Category' )"
   ]
  },
  {
   "cell_type": "markdown",
   "id": "d5441dde-8f48-44e7-9009-cf72baf2021a",
   "metadata": {},
   "source": []
  },
  {
   "cell_type": "markdown",
   "id": "534c62f1-7ba0-4d79-8db8-76feb3fb3e27",
   "metadata": {},
   "source": [
    "So by changing the categorization, the match percentage raised a lot!"
   ]
  },
  {
   "cell_type": "code",
   "execution_count": null,
   "id": "8f896c2b-1ee6-475b-b0ce-09cdf10ab33f",
   "metadata": {},
   "outputs": [],
   "source": []
  }
 ],
 "metadata": {
  "kernelspec": {
   "display_name": "Python 3 (ipykernel)",
   "language": "python",
   "name": "python3"
  },
  "language_info": {
   "codemirror_mode": {
    "name": "ipython",
    "version": 3
   },
   "file_extension": ".py",
   "mimetype": "text/x-python",
   "name": "python",
   "nbconvert_exporter": "python",
   "pygments_lexer": "ipython3",
   "version": "3.9.12"
  }
 },
 "nbformat": 4,
 "nbformat_minor": 5
}
